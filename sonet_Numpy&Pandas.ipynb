{
  "nbformat": 4,
  "nbformat_minor": 0,
  "metadata": {
    "kernelspec": {
      "display_name": "Python 3",
      "language": "python",
      "name": "python3"
    },
    "language_info": {
      "codemirror_mode": {
        "name": "ipython",
        "version": 3
      },
      "file_extension": ".py",
      "mimetype": "text/x-python",
      "name": "python",
      "nbconvert_exporter": "python",
      "pygments_lexer": "ipython3",
      "version": "3.7.3"
    },
    "colab": {
      "name": "sonet_Numpy&Pandas.ipynb",
      "provenance": [],
      "include_colab_link": true
    }
  },
  "cells": [
    {
      "cell_type": "markdown",
      "metadata": {
        "id": "view-in-github",
        "colab_type": "text"
      },
      "source": [
        "<a href=\"https://colab.research.google.com/github/adasrinivas1229/NUMPY_STACK/blob/master/sonet_Numpy%26Pandas.ipynb\" target=\"_parent\"><img src=\"https://colab.research.google.com/assets/colab-badge.svg\" alt=\"Open In Colab\"/></a>"
      ]
    },
    {
      "cell_type": "code",
      "metadata": {
        "id": "ECb2RquYjdeS",
        "colab_type": "code",
        "colab": {},
        "outputId": "ff52f936-ab8a-4065-cf4d-f659d158d9dc"
      },
      "source": [
        "!pip install numpy"
      ],
      "execution_count": null,
      "outputs": [
        {
          "output_type": "stream",
          "text": [
            "Requirement already satisfied: numpy in c:\\users\\mohana ravali\\anaconda3\\lib\\site-packages (1.16.5)\n"
          ],
          "name": "stdout"
        }
      ]
    },
    {
      "cell_type": "code",
      "metadata": {
        "id": "IrzwzTE8jdeV",
        "colab_type": "code",
        "colab": {}
      },
      "source": [
        "import numpy as np"
      ],
      "execution_count": null,
      "outputs": []
    },
    {
      "cell_type": "code",
      "metadata": {
        "id": "1AHg6rkUjdeX",
        "colab_type": "code",
        "colab": {},
        "outputId": "586982e1-6b5a-4ba9-b49d-2b93c7ba0223"
      },
      "source": [
        "a = np.array([1,2,3])\n",
        "a"
      ],
      "execution_count": null,
      "outputs": [
        {
          "output_type": "execute_result",
          "data": {
            "text/plain": [
              "array([1, 2, 3])"
            ]
          },
          "metadata": {
            "tags": []
          },
          "execution_count": 4
        }
      ]
    },
    {
      "cell_type": "code",
      "metadata": {
        "id": "3LjYZ5HnjdeZ",
        "colab_type": "code",
        "colab": {},
        "outputId": "41534bfc-e8e2-4d38-9cc7-cf062698ff9a"
      },
      "source": [
        "type(a)"
      ],
      "execution_count": null,
      "outputs": [
        {
          "output_type": "execute_result",
          "data": {
            "text/plain": [
              "numpy.ndarray"
            ]
          },
          "metadata": {
            "tags": []
          },
          "execution_count": 5
        }
      ]
    },
    {
      "cell_type": "code",
      "metadata": {
        "id": "5DryYKfLjdeb",
        "colab_type": "code",
        "colab": {},
        "outputId": "8f2befde-38ca-4258-df1e-231787f4fe68"
      },
      "source": [
        "b = np.array([[1,2],[3,4]])\n",
        "b"
      ],
      "execution_count": null,
      "outputs": [
        {
          "output_type": "execute_result",
          "data": {
            "text/plain": [
              "array([[1, 2],\n",
              "       [3, 4]])"
            ]
          },
          "metadata": {
            "tags": []
          },
          "execution_count": 6
        }
      ]
    },
    {
      "cell_type": "code",
      "metadata": {
        "id": "6AWYYFeNjded",
        "colab_type": "code",
        "colab": {},
        "outputId": "58a2d563-c94e-4e5b-84ff-11b192a21146"
      },
      "source": [
        "c = np.array([1,2,3,4,5],ndmin = 6)\n",
        "print(c)"
      ],
      "execution_count": null,
      "outputs": [
        {
          "output_type": "error",
          "ename": "SyntaxError",
          "evalue": "positional argument follows keyword argument (<ipython-input-18-3e4aa6451ffc>, line 1)",
          "traceback": [
            "\u001b[1;36m  File \u001b[1;32m\"<ipython-input-18-3e4aa6451ffc>\"\u001b[1;36m, line \u001b[1;32m1\u001b[0m\n\u001b[1;33m    c = np.array([1,2,3,4,5],ndmin = 6,np.int8)\u001b[0m\n\u001b[1;37m                                      ^\u001b[0m\n\u001b[1;31mSyntaxError\u001b[0m\u001b[1;31m:\u001b[0m positional argument follows keyword argument\n"
          ]
        }
      ]
    },
    {
      "cell_type": "code",
      "metadata": {
        "id": "6SPTsd2Ojdef",
        "colab_type": "code",
        "colab": {},
        "outputId": "7b46cf71-0f4d-4b5d-bb59-93a773b13a56"
      },
      "source": [
        "c.shape"
      ],
      "execution_count": null,
      "outputs": [
        {
          "output_type": "execute_result",
          "data": {
            "text/plain": [
              "(1, 1, 1, 1, 1, 5)"
            ]
          },
          "metadata": {
            "tags": []
          },
          "execution_count": 17
        }
      ]
    },
    {
      "cell_type": "code",
      "metadata": {
        "id": "V8YtHlHajdeh",
        "colab_type": "code",
        "colab": {},
        "outputId": "7f825c56-9307-4094-9fc0-269ac39a4952"
      },
      "source": [
        "d = np.dtype([('age',np.int8)])\n",
        "d"
      ],
      "execution_count": null,
      "outputs": [
        {
          "output_type": "execute_result",
          "data": {
            "text/plain": [
              "dtype([('age', 'i1')])"
            ]
          },
          "metadata": {
            "tags": []
          },
          "execution_count": 20
        }
      ]
    },
    {
      "cell_type": "code",
      "metadata": {
        "id": "gCreNLRYjdej",
        "colab_type": "code",
        "colab": {},
        "outputId": "282e09aa-b062-48e7-da65-1b76a95950d7"
      },
      "source": [
        "e = np.array([[1,2,3],[4,5,6]])\n",
        "e.shape = (3,2)\n",
        "print(e)"
      ],
      "execution_count": null,
      "outputs": [
        {
          "output_type": "stream",
          "text": [
            "[[1 2]\n",
            " [3 4]\n",
            " [5 6]]\n"
          ],
          "name": "stdout"
        }
      ]
    },
    {
      "cell_type": "code",
      "metadata": {
        "id": "3xoGFspmjdel",
        "colab_type": "code",
        "colab": {},
        "outputId": "f06510bb-21cc-4f16-e62a-407c47fc8f86"
      },
      "source": [
        "f = e.reshape(2,3)\n",
        "f"
      ],
      "execution_count": null,
      "outputs": [
        {
          "output_type": "execute_result",
          "data": {
            "text/plain": [
              "array([[1, 2, 3],\n",
              "       [4, 5, 6]])"
            ]
          },
          "metadata": {
            "tags": []
          },
          "execution_count": 23
        }
      ]
    },
    {
      "cell_type": "code",
      "metadata": {
        "id": "wIYQKyGPjdem",
        "colab_type": "code",
        "colab": {},
        "outputId": "0e7e339c-138e-43be-9282-6d23dfe89927"
      },
      "source": [
        "g = np.arange(12)\n",
        "g.ndim\n",
        "g"
      ],
      "execution_count": null,
      "outputs": [
        {
          "output_type": "execute_result",
          "data": {
            "text/plain": [
              "array([ 0,  1,  2,  3,  4,  5,  6,  7,  8,  9, 10, 11])"
            ]
          },
          "metadata": {
            "tags": []
          },
          "execution_count": 33
        }
      ]
    },
    {
      "cell_type": "code",
      "metadata": {
        "id": "veX9PRawjdeo",
        "colab_type": "code",
        "colab": {},
        "outputId": "823617bd-ac72-4aa1-de78-b7c795f9540e"
      },
      "source": [
        "h = g.reshape(3,4)\n",
        "h"
      ],
      "execution_count": null,
      "outputs": [
        {
          "output_type": "execute_result",
          "data": {
            "text/plain": [
              "array([[ 0,  1,  2,  3],\n",
              "       [ 4,  5,  6,  7],\n",
              "       [ 8,  9, 10, 11]])"
            ]
          },
          "metadata": {
            "tags": []
          },
          "execution_count": 34
        }
      ]
    },
    {
      "cell_type": "code",
      "metadata": {
        "id": "D0F1Wu25jdeq",
        "colab_type": "code",
        "colab": {},
        "outputId": "b16e0f61-6c76-42a0-86de-93e1fad2a50d"
      },
      "source": [
        "x = np.ones((5,5),dtype = np.int)\n",
        "print(x)"
      ],
      "execution_count": null,
      "outputs": [
        {
          "output_type": "stream",
          "text": [
            "[[1 1 1 1 1]\n",
            " [1 1 1 1 1]\n",
            " [1 1 1 1 1]\n",
            " [1 1 1 1 1]\n",
            " [1 1 1 1 1]]\n"
          ],
          "name": "stdout"
        }
      ]
    },
    {
      "cell_type": "code",
      "metadata": {
        "id": "pesILWd8jdes",
        "colab_type": "code",
        "colab": {}
      },
      "source": [
        "x = [1,2,3]\n",
        "i = np.asarray(x)"
      ],
      "execution_count": null,
      "outputs": []
    },
    {
      "cell_type": "code",
      "metadata": {
        "id": "Ne1SaK8Zjdeu",
        "colab_type": "code",
        "colab": {},
        "outputId": "e9a77c76-d806-4a56-c33b-184ebd671b05"
      },
      "source": [
        "type(i)"
      ],
      "execution_count": null,
      "outputs": [
        {
          "output_type": "execute_result",
          "data": {
            "text/plain": [
              "numpy.ndarray"
            ]
          },
          "metadata": {
            "tags": []
          },
          "execution_count": 42
        }
      ]
    },
    {
      "cell_type": "code",
      "metadata": {
        "id": "dFAA4Cvvjdew",
        "colab_type": "code",
        "colab": {},
        "outputId": "73c3d1f7-f98b-4d68-b5df-b8ef72d5f139"
      },
      "source": [
        "j = np.arange(10)\n",
        "j"
      ],
      "execution_count": null,
      "outputs": [
        {
          "output_type": "execute_result",
          "data": {
            "text/plain": [
              "array([0, 1, 2, 3, 4, 5, 6, 7, 8, 9])"
            ]
          },
          "metadata": {
            "tags": []
          },
          "execution_count": 43
        }
      ]
    },
    {
      "cell_type": "code",
      "metadata": {
        "id": "am00EbhMjdex",
        "colab_type": "code",
        "colab": {},
        "outputId": "a0fa8aeb-e99a-45c8-d75c-5d0c998caa06"
      },
      "source": [
        "k = j[2:7:2]\n",
        "k"
      ],
      "execution_count": null,
      "outputs": [
        {
          "output_type": "execute_result",
          "data": {
            "text/plain": [
              "array([2, 4, 6])"
            ]
          },
          "metadata": {
            "tags": []
          },
          "execution_count": 46
        }
      ]
    },
    {
      "cell_type": "code",
      "metadata": {
        "id": "erHb7xjljdez",
        "colab_type": "code",
        "colab": {},
        "outputId": "58f9ffcb-95c8-4d87-9735-91ae2b980714"
      },
      "source": [
        "a = np.array([[1,2,3],[3,4,5],[4,5,6]])\n",
        "a"
      ],
      "execution_count": null,
      "outputs": [
        {
          "output_type": "execute_result",
          "data": {
            "text/plain": [
              "array([[1, 2, 3],\n",
              "       [3, 4, 5],\n",
              "       [4, 5, 6]])"
            ]
          },
          "metadata": {
            "tags": []
          },
          "execution_count": 48
        }
      ]
    },
    {
      "cell_type": "code",
      "metadata": {
        "id": "ADNvKd5sjde2",
        "colab_type": "code",
        "colab": {},
        "outputId": "29e7976c-1e9a-4d89-ff89-b91733effb17"
      },
      "source": [
        "a[1:2]"
      ],
      "execution_count": null,
      "outputs": [
        {
          "output_type": "execute_result",
          "data": {
            "text/plain": [
              "array([[3, 4, 5]])"
            ]
          },
          "metadata": {
            "tags": []
          },
          "execution_count": 51
        }
      ]
    },
    {
      "cell_type": "code",
      "metadata": {
        "id": "uz47HGckjde3",
        "colab_type": "code",
        "colab": {},
        "outputId": "903059a1-857a-43b1-cfba-bc829943e52b"
      },
      "source": [
        "a[1][2]"
      ],
      "execution_count": null,
      "outputs": [
        {
          "output_type": "execute_result",
          "data": {
            "text/plain": [
              "5"
            ]
          },
          "metadata": {
            "tags": []
          },
          "execution_count": 52
        }
      ]
    },
    {
      "cell_type": "markdown",
      "metadata": {
        "id": "M--Abrfxjde5",
        "colab_type": "text"
      },
      "source": [
        "* Advance Indexing"
      ]
    },
    {
      "cell_type": "markdown",
      "metadata": {
        "id": "r9aK1zfpjde5",
        "colab_type": "text"
      },
      "source": [
        "# Pandas"
      ]
    },
    {
      "cell_type": "code",
      "metadata": {
        "id": "iDmtYOhtjde6",
        "colab_type": "code",
        "colab": {},
        "outputId": "353e633b-86ea-4e1b-a72f-cec9e5d50db6"
      },
      "source": [
        "!pip install pandas"
      ],
      "execution_count": null,
      "outputs": [
        {
          "output_type": "stream",
          "text": [
            "Requirement already satisfied: pandas in c:\\users\\mohana ravali\\anaconda3\\lib\\site-packages (1.0.3)\n",
            "Requirement already satisfied: python-dateutil>=2.6.1 in c:\\users\\mohana ravali\\anaconda3\\lib\\site-packages (from pandas) (2.8.0)\n",
            "Requirement already satisfied: pytz>=2017.2 in c:\\users\\mohana ravali\\anaconda3\\lib\\site-packages (from pandas) (2019.3)\n",
            "Requirement already satisfied: numpy>=1.13.3 in c:\\users\\mohana ravali\\anaconda3\\lib\\site-packages (from pandas) (1.16.5)\n",
            "Requirement already satisfied: six>=1.5 in c:\\users\\mohana ravali\\anaconda3\\lib\\site-packages (from python-dateutil>=2.6.1->pandas) (1.12.0)\n"
          ],
          "name": "stdout"
        }
      ]
    },
    {
      "cell_type": "code",
      "metadata": {
        "id": "yC0loWeojde7",
        "colab_type": "code",
        "colab": {}
      },
      "source": [
        "import pandas as pd"
      ],
      "execution_count": null,
      "outputs": []
    },
    {
      "cell_type": "code",
      "metadata": {
        "id": "Qb-gtBofjde9",
        "colab_type": "code",
        "colab": {},
        "outputId": "f90e0694-7253-4c46-8469-1c91c7f7283f"
      },
      "source": [
        "df = pd.Series([5,10,15,20,25])\n",
        "df"
      ],
      "execution_count": null,
      "outputs": [
        {
          "output_type": "execute_result",
          "data": {
            "text/plain": [
              "0     5\n",
              "1    10\n",
              "2    15\n",
              "3    20\n",
              "4    25\n",
              "dtype: int64"
            ]
          },
          "metadata": {
            "tags": []
          },
          "execution_count": 56
        }
      ]
    },
    {
      "cell_type": "code",
      "metadata": {
        "id": "QkwkEQpIjdfA",
        "colab_type": "code",
        "colab": {},
        "outputId": "6a74e075-0f1d-410f-b267-503b2de5e892"
      },
      "source": [
        "df.values"
      ],
      "execution_count": null,
      "outputs": [
        {
          "output_type": "execute_result",
          "data": {
            "text/plain": [
              "array([ 5, 10, 15, 20, 25], dtype=int64)"
            ]
          },
          "metadata": {
            "tags": []
          },
          "execution_count": 57
        }
      ]
    },
    {
      "cell_type": "code",
      "metadata": {
        "id": "YnC377YEjdfC",
        "colab_type": "code",
        "colab": {},
        "outputId": "0f1754d3-60b1-4512-d125-0540869f4658"
      },
      "source": [
        "df.index"
      ],
      "execution_count": null,
      "outputs": [
        {
          "output_type": "execute_result",
          "data": {
            "text/plain": [
              "RangeIndex(start=0, stop=5, step=1)"
            ]
          },
          "metadata": {
            "tags": []
          },
          "execution_count": 58
        }
      ]
    },
    {
      "cell_type": "code",
      "metadata": {
        "id": "YvVS0-aajdfE",
        "colab_type": "code",
        "colab": {}
      },
      "source": [
        "labels = ['a','b','c','d','e','f']\n",
        "my_list = [10,20,30]\n",
        "arr = np.array([10,20,30,40,50,60])"
      ],
      "execution_count": null,
      "outputs": []
    },
    {
      "cell_type": "code",
      "metadata": {
        "id": "lJgT84cQjdfG",
        "colab_type": "code",
        "colab": {},
        "outputId": "43145d14-ef37-4fa0-b6e2-dac2992a979f"
      },
      "source": [
        "pd.Series(data = my_list)"
      ],
      "execution_count": null,
      "outputs": [
        {
          "output_type": "execute_result",
          "data": {
            "text/plain": [
              "0    10\n",
              "1    20\n",
              "2    30\n",
              "dtype: int64"
            ]
          },
          "metadata": {
            "tags": []
          },
          "execution_count": 60
        }
      ]
    },
    {
      "cell_type": "code",
      "metadata": {
        "id": "Q63yteMgjdfI",
        "colab_type": "code",
        "colab": {},
        "outputId": "c94fb712-5959-44c4-be11-712bd2e99d7f"
      },
      "source": [
        "pd.Series(data = my_list, index = labels)"
      ],
      "execution_count": null,
      "outputs": [
        {
          "output_type": "execute_result",
          "data": {
            "text/plain": [
              "a    10\n",
              "b    20\n",
              "c    30\n",
              "dtype: int64"
            ]
          },
          "metadata": {
            "tags": []
          },
          "execution_count": 61
        }
      ]
    },
    {
      "cell_type": "code",
      "metadata": {
        "id": "WgCCS16MjdfJ",
        "colab_type": "code",
        "colab": {},
        "outputId": "521433e9-0ee3-4c95-b6de-1fbfca61163e"
      },
      "source": [
        "df = pd.Series(arr,labels)\n",
        "df"
      ],
      "execution_count": null,
      "outputs": [
        {
          "output_type": "execute_result",
          "data": {
            "text/plain": [
              "a    10\n",
              "b    20\n",
              "c    30\n",
              "d    40\n",
              "e    50\n",
              "f    60\n",
              "dtype: int32"
            ]
          },
          "metadata": {
            "tags": []
          },
          "execution_count": 66
        }
      ]
    },
    {
      "cell_type": "code",
      "metadata": {
        "id": "nzqWAkQijdfL",
        "colab_type": "code",
        "colab": {},
        "outputId": "76d582d0-01a3-42cd-8608-90faccd2bd0f"
      },
      "source": [
        "df[:4]"
      ],
      "execution_count": null,
      "outputs": [
        {
          "output_type": "execute_result",
          "data": {
            "text/plain": [
              "a    10\n",
              "b    20\n",
              "c    30\n",
              "d    40\n",
              "dtype: int32"
            ]
          },
          "metadata": {
            "tags": []
          },
          "execution_count": 69
        }
      ]
    },
    {
      "cell_type": "code",
      "metadata": {
        "id": "VL5r7xecjdfN",
        "colab_type": "code",
        "colab": {},
        "outputId": "515bc877-9e0d-4705-edaf-c854d82e1ddc"
      },
      "source": [
        "df[['a','c','e']]"
      ],
      "execution_count": null,
      "outputs": [
        {
          "output_type": "execute_result",
          "data": {
            "text/plain": [
              "a    10\n",
              "c    30\n",
              "e    50\n",
              "dtype: int32"
            ]
          },
          "metadata": {
            "tags": []
          },
          "execution_count": 71
        }
      ]
    },
    {
      "cell_type": "code",
      "metadata": {
        "id": "1zUPd-ACjdfP",
        "colab_type": "code",
        "colab": {}
      },
      "source": [
        "import numpy as np\n",
        "from numpy.random import randn"
      ],
      "execution_count": null,
      "outputs": []
    },
    {
      "cell_type": "code",
      "metadata": {
        "id": "dfYAjLCljdfQ",
        "colab_type": "code",
        "colab": {}
      },
      "source": [
        "df = pd.DataFrame(randn(5,4),index = 'A B C D E'.split(),\n",
        "                  columns = 'W X Y Z'.split())"
      ],
      "execution_count": null,
      "outputs": []
    },
    {
      "cell_type": "code",
      "metadata": {
        "id": "ZIV6jpEkjdfS",
        "colab_type": "code",
        "colab": {},
        "outputId": "fdd781c5-9ef3-402d-f445-efeeebd2505a"
      },
      "source": [
        "df"
      ],
      "execution_count": null,
      "outputs": [
        {
          "output_type": "execute_result",
          "data": {
            "text/html": [
              "<div>\n",
              "<style scoped>\n",
              "    .dataframe tbody tr th:only-of-type {\n",
              "        vertical-align: middle;\n",
              "    }\n",
              "\n",
              "    .dataframe tbody tr th {\n",
              "        vertical-align: top;\n",
              "    }\n",
              "\n",
              "    .dataframe thead th {\n",
              "        text-align: right;\n",
              "    }\n",
              "</style>\n",
              "<table border=\"1\" class=\"dataframe\">\n",
              "  <thead>\n",
              "    <tr style=\"text-align: right;\">\n",
              "      <th></th>\n",
              "      <th>W</th>\n",
              "      <th>X</th>\n",
              "      <th>Y</th>\n",
              "      <th>Z</th>\n",
              "    </tr>\n",
              "  </thead>\n",
              "  <tbody>\n",
              "    <tr>\n",
              "      <th>A</th>\n",
              "      <td>0.176641</td>\n",
              "      <td>0.046955</td>\n",
              "      <td>-0.649812</td>\n",
              "      <td>0.230011</td>\n",
              "    </tr>\n",
              "    <tr>\n",
              "      <th>B</th>\n",
              "      <td>-0.813205</td>\n",
              "      <td>-1.253921</td>\n",
              "      <td>0.676913</td>\n",
              "      <td>-0.316795</td>\n",
              "    </tr>\n",
              "    <tr>\n",
              "      <th>C</th>\n",
              "      <td>-0.111327</td>\n",
              "      <td>1.258091</td>\n",
              "      <td>-0.104598</td>\n",
              "      <td>1.671973</td>\n",
              "    </tr>\n",
              "    <tr>\n",
              "      <th>D</th>\n",
              "      <td>-0.602448</td>\n",
              "      <td>0.208416</td>\n",
              "      <td>0.125004</td>\n",
              "      <td>-0.822847</td>\n",
              "    </tr>\n",
              "    <tr>\n",
              "      <th>E</th>\n",
              "      <td>-0.320454</td>\n",
              "      <td>-0.064663</td>\n",
              "      <td>-0.849593</td>\n",
              "      <td>-1.033255</td>\n",
              "    </tr>\n",
              "  </tbody>\n",
              "</table>\n",
              "</div>"
            ],
            "text/plain": [
              "          W         X         Y         Z\n",
              "A  0.176641  0.046955 -0.649812  0.230011\n",
              "B -0.813205 -1.253921  0.676913 -0.316795\n",
              "C -0.111327  1.258091 -0.104598  1.671973\n",
              "D -0.602448  0.208416  0.125004 -0.822847\n",
              "E -0.320454 -0.064663 -0.849593 -1.033255"
            ]
          },
          "metadata": {
            "tags": []
          },
          "execution_count": 74
        }
      ]
    },
    {
      "cell_type": "code",
      "metadata": {
        "id": "dNiNuLSNjdfT",
        "colab_type": "code",
        "colab": {},
        "outputId": "29da69fe-256e-4362-9483-2b69b4801318"
      },
      "source": [
        "df['X']"
      ],
      "execution_count": null,
      "outputs": [
        {
          "output_type": "execute_result",
          "data": {
            "text/plain": [
              "A    0.046955\n",
              "B   -1.253921\n",
              "C    1.258091\n",
              "D    0.208416\n",
              "E   -0.064663\n",
              "Name: X, dtype: float64"
            ]
          },
          "metadata": {
            "tags": []
          },
          "execution_count": 75
        }
      ]
    },
    {
      "cell_type": "code",
      "metadata": {
        "id": "jMM6rOnZjdfV",
        "colab_type": "code",
        "colab": {},
        "outputId": "8bc9247f-e976-49a3-a018-b91351edac6f"
      },
      "source": [
        "df[['W','Y']]"
      ],
      "execution_count": null,
      "outputs": [
        {
          "output_type": "execute_result",
          "data": {
            "text/html": [
              "<div>\n",
              "<style scoped>\n",
              "    .dataframe tbody tr th:only-of-type {\n",
              "        vertical-align: middle;\n",
              "    }\n",
              "\n",
              "    .dataframe tbody tr th {\n",
              "        vertical-align: top;\n",
              "    }\n",
              "\n",
              "    .dataframe thead th {\n",
              "        text-align: right;\n",
              "    }\n",
              "</style>\n",
              "<table border=\"1\" class=\"dataframe\">\n",
              "  <thead>\n",
              "    <tr style=\"text-align: right;\">\n",
              "      <th></th>\n",
              "      <th>W</th>\n",
              "      <th>Y</th>\n",
              "    </tr>\n",
              "  </thead>\n",
              "  <tbody>\n",
              "    <tr>\n",
              "      <th>A</th>\n",
              "      <td>0.176641</td>\n",
              "      <td>-0.649812</td>\n",
              "    </tr>\n",
              "    <tr>\n",
              "      <th>B</th>\n",
              "      <td>-0.813205</td>\n",
              "      <td>0.676913</td>\n",
              "    </tr>\n",
              "    <tr>\n",
              "      <th>C</th>\n",
              "      <td>-0.111327</td>\n",
              "      <td>-0.104598</td>\n",
              "    </tr>\n",
              "    <tr>\n",
              "      <th>D</th>\n",
              "      <td>-0.602448</td>\n",
              "      <td>0.125004</td>\n",
              "    </tr>\n",
              "    <tr>\n",
              "      <th>E</th>\n",
              "      <td>-0.320454</td>\n",
              "      <td>-0.849593</td>\n",
              "    </tr>\n",
              "  </tbody>\n",
              "</table>\n",
              "</div>"
            ],
            "text/plain": [
              "          W         Y\n",
              "A  0.176641 -0.649812\n",
              "B -0.813205  0.676913\n",
              "C -0.111327 -0.104598\n",
              "D -0.602448  0.125004\n",
              "E -0.320454 -0.849593"
            ]
          },
          "metadata": {
            "tags": []
          },
          "execution_count": 77
        }
      ]
    },
    {
      "cell_type": "code",
      "metadata": {
        "id": "UI478hkejdfW",
        "colab_type": "code",
        "colab": {}
      },
      "source": [
        "df['A'] = df['W'] + df['Y']"
      ],
      "execution_count": null,
      "outputs": []
    },
    {
      "cell_type": "code",
      "metadata": {
        "id": "vkfPpVbejdfY",
        "colab_type": "code",
        "colab": {},
        "outputId": "8e23172b-222e-49fc-f98b-64823e81f379"
      },
      "source": [
        "df"
      ],
      "execution_count": null,
      "outputs": [
        {
          "output_type": "execute_result",
          "data": {
            "text/html": [
              "<div>\n",
              "<style scoped>\n",
              "    .dataframe tbody tr th:only-of-type {\n",
              "        vertical-align: middle;\n",
              "    }\n",
              "\n",
              "    .dataframe tbody tr th {\n",
              "        vertical-align: top;\n",
              "    }\n",
              "\n",
              "    .dataframe thead th {\n",
              "        text-align: right;\n",
              "    }\n",
              "</style>\n",
              "<table border=\"1\" class=\"dataframe\">\n",
              "  <thead>\n",
              "    <tr style=\"text-align: right;\">\n",
              "      <th></th>\n",
              "      <th>W</th>\n",
              "      <th>X</th>\n",
              "      <th>Y</th>\n",
              "      <th>Z</th>\n",
              "      <th>A</th>\n",
              "    </tr>\n",
              "  </thead>\n",
              "  <tbody>\n",
              "    <tr>\n",
              "      <th>A</th>\n",
              "      <td>0.176641</td>\n",
              "      <td>0.046955</td>\n",
              "      <td>-0.649812</td>\n",
              "      <td>0.230011</td>\n",
              "      <td>-0.473171</td>\n",
              "    </tr>\n",
              "    <tr>\n",
              "      <th>B</th>\n",
              "      <td>-0.813205</td>\n",
              "      <td>-1.253921</td>\n",
              "      <td>0.676913</td>\n",
              "      <td>-0.316795</td>\n",
              "      <td>-0.136293</td>\n",
              "    </tr>\n",
              "    <tr>\n",
              "      <th>C</th>\n",
              "      <td>-0.111327</td>\n",
              "      <td>1.258091</td>\n",
              "      <td>-0.104598</td>\n",
              "      <td>1.671973</td>\n",
              "      <td>-0.215926</td>\n",
              "    </tr>\n",
              "    <tr>\n",
              "      <th>D</th>\n",
              "      <td>-0.602448</td>\n",
              "      <td>0.208416</td>\n",
              "      <td>0.125004</td>\n",
              "      <td>-0.822847</td>\n",
              "      <td>-0.477444</td>\n",
              "    </tr>\n",
              "    <tr>\n",
              "      <th>E</th>\n",
              "      <td>-0.320454</td>\n",
              "      <td>-0.064663</td>\n",
              "      <td>-0.849593</td>\n",
              "      <td>-1.033255</td>\n",
              "      <td>-1.170047</td>\n",
              "    </tr>\n",
              "  </tbody>\n",
              "</table>\n",
              "</div>"
            ],
            "text/plain": [
              "          W         X         Y         Z         A\n",
              "A  0.176641  0.046955 -0.649812  0.230011 -0.473171\n",
              "B -0.813205 -1.253921  0.676913 -0.316795 -0.136293\n",
              "C -0.111327  1.258091 -0.104598  1.671973 -0.215926\n",
              "D -0.602448  0.208416  0.125004 -0.822847 -0.477444\n",
              "E -0.320454 -0.064663 -0.849593 -1.033255 -1.170047"
            ]
          },
          "metadata": {
            "tags": []
          },
          "execution_count": 79
        }
      ]
    },
    {
      "cell_type": "code",
      "metadata": {
        "id": "3UECsP7Vjdfa",
        "colab_type": "code",
        "colab": {}
      },
      "source": [
        "df2 = df.drop('W',axis = 1)"
      ],
      "execution_count": null,
      "outputs": []
    },
    {
      "cell_type": "code",
      "metadata": {
        "id": "9M9uRjypjdfb",
        "colab_type": "code",
        "colab": {},
        "outputId": "7fc11424-b43b-4581-f506-23a78dc9aacb"
      },
      "source": [
        "df"
      ],
      "execution_count": null,
      "outputs": [
        {
          "output_type": "execute_result",
          "data": {
            "text/html": [
              "<div>\n",
              "<style scoped>\n",
              "    .dataframe tbody tr th:only-of-type {\n",
              "        vertical-align: middle;\n",
              "    }\n",
              "\n",
              "    .dataframe tbody tr th {\n",
              "        vertical-align: top;\n",
              "    }\n",
              "\n",
              "    .dataframe thead th {\n",
              "        text-align: right;\n",
              "    }\n",
              "</style>\n",
              "<table border=\"1\" class=\"dataframe\">\n",
              "  <thead>\n",
              "    <tr style=\"text-align: right;\">\n",
              "      <th></th>\n",
              "      <th>W</th>\n",
              "      <th>X</th>\n",
              "      <th>Y</th>\n",
              "      <th>Z</th>\n",
              "      <th>A</th>\n",
              "    </tr>\n",
              "  </thead>\n",
              "  <tbody>\n",
              "    <tr>\n",
              "      <th>A</th>\n",
              "      <td>0.176641</td>\n",
              "      <td>0.046955</td>\n",
              "      <td>-0.649812</td>\n",
              "      <td>0.230011</td>\n",
              "      <td>-0.473171</td>\n",
              "    </tr>\n",
              "    <tr>\n",
              "      <th>B</th>\n",
              "      <td>-0.813205</td>\n",
              "      <td>-1.253921</td>\n",
              "      <td>0.676913</td>\n",
              "      <td>-0.316795</td>\n",
              "      <td>-0.136293</td>\n",
              "    </tr>\n",
              "    <tr>\n",
              "      <th>C</th>\n",
              "      <td>-0.111327</td>\n",
              "      <td>1.258091</td>\n",
              "      <td>-0.104598</td>\n",
              "      <td>1.671973</td>\n",
              "      <td>-0.215926</td>\n",
              "    </tr>\n",
              "    <tr>\n",
              "      <th>D</th>\n",
              "      <td>-0.602448</td>\n",
              "      <td>0.208416</td>\n",
              "      <td>0.125004</td>\n",
              "      <td>-0.822847</td>\n",
              "      <td>-0.477444</td>\n",
              "    </tr>\n",
              "    <tr>\n",
              "      <th>E</th>\n",
              "      <td>-0.320454</td>\n",
              "      <td>-0.064663</td>\n",
              "      <td>-0.849593</td>\n",
              "      <td>-1.033255</td>\n",
              "      <td>-1.170047</td>\n",
              "    </tr>\n",
              "  </tbody>\n",
              "</table>\n",
              "</div>"
            ],
            "text/plain": [
              "          W         X         Y         Z         A\n",
              "A  0.176641  0.046955 -0.649812  0.230011 -0.473171\n",
              "B -0.813205 -1.253921  0.676913 -0.316795 -0.136293\n",
              "C -0.111327  1.258091 -0.104598  1.671973 -0.215926\n",
              "D -0.602448  0.208416  0.125004 -0.822847 -0.477444\n",
              "E -0.320454 -0.064663 -0.849593 -1.033255 -1.170047"
            ]
          },
          "metadata": {
            "tags": []
          },
          "execution_count": 87
        }
      ]
    },
    {
      "cell_type": "code",
      "metadata": {
        "id": "iRb7Ssafjdfd",
        "colab_type": "code",
        "colab": {},
        "outputId": "b56eff7b-41aa-4623-9b0c-e89afa7cf116"
      },
      "source": [
        "df2"
      ],
      "execution_count": null,
      "outputs": [
        {
          "output_type": "execute_result",
          "data": {
            "text/html": [
              "<div>\n",
              "<style scoped>\n",
              "    .dataframe tbody tr th:only-of-type {\n",
              "        vertical-align: middle;\n",
              "    }\n",
              "\n",
              "    .dataframe tbody tr th {\n",
              "        vertical-align: top;\n",
              "    }\n",
              "\n",
              "    .dataframe thead th {\n",
              "        text-align: right;\n",
              "    }\n",
              "</style>\n",
              "<table border=\"1\" class=\"dataframe\">\n",
              "  <thead>\n",
              "    <tr style=\"text-align: right;\">\n",
              "      <th></th>\n",
              "      <th>X</th>\n",
              "      <th>Y</th>\n",
              "      <th>Z</th>\n",
              "      <th>A</th>\n",
              "    </tr>\n",
              "  </thead>\n",
              "  <tbody>\n",
              "    <tr>\n",
              "      <th>A</th>\n",
              "      <td>0.046955</td>\n",
              "      <td>-0.649812</td>\n",
              "      <td>0.230011</td>\n",
              "      <td>-0.473171</td>\n",
              "    </tr>\n",
              "    <tr>\n",
              "      <th>B</th>\n",
              "      <td>-1.253921</td>\n",
              "      <td>0.676913</td>\n",
              "      <td>-0.316795</td>\n",
              "      <td>-0.136293</td>\n",
              "    </tr>\n",
              "    <tr>\n",
              "      <th>C</th>\n",
              "      <td>1.258091</td>\n",
              "      <td>-0.104598</td>\n",
              "      <td>1.671973</td>\n",
              "      <td>-0.215926</td>\n",
              "    </tr>\n",
              "    <tr>\n",
              "      <th>D</th>\n",
              "      <td>0.208416</td>\n",
              "      <td>0.125004</td>\n",
              "      <td>-0.822847</td>\n",
              "      <td>-0.477444</td>\n",
              "    </tr>\n",
              "    <tr>\n",
              "      <th>E</th>\n",
              "      <td>-0.064663</td>\n",
              "      <td>-0.849593</td>\n",
              "      <td>-1.033255</td>\n",
              "      <td>-1.170047</td>\n",
              "    </tr>\n",
              "  </tbody>\n",
              "</table>\n",
              "</div>"
            ],
            "text/plain": [
              "          X         Y         Z         A\n",
              "A  0.046955 -0.649812  0.230011 -0.473171\n",
              "B -1.253921  0.676913 -0.316795 -0.136293\n",
              "C  1.258091 -0.104598  1.671973 -0.215926\n",
              "D  0.208416  0.125004 -0.822847 -0.477444\n",
              "E -0.064663 -0.849593 -1.033255 -1.170047"
            ]
          },
          "metadata": {
            "tags": []
          },
          "execution_count": 88
        }
      ]
    },
    {
      "cell_type": "code",
      "metadata": {
        "id": "UPYllKHhjdfg",
        "colab_type": "code",
        "colab": {}
      },
      "source": [
        "df3 = df.drop('C',axis = 0)"
      ],
      "execution_count": null,
      "outputs": []
    },
    {
      "cell_type": "code",
      "metadata": {
        "id": "7j28P7S3jdfh",
        "colab_type": "code",
        "colab": {},
        "outputId": "ef9095e8-9d86-47bd-aa57-31f1c1fbd8e6"
      },
      "source": [
        "df3"
      ],
      "execution_count": null,
      "outputs": [
        {
          "output_type": "execute_result",
          "data": {
            "text/html": [
              "<div>\n",
              "<style scoped>\n",
              "    .dataframe tbody tr th:only-of-type {\n",
              "        vertical-align: middle;\n",
              "    }\n",
              "\n",
              "    .dataframe tbody tr th {\n",
              "        vertical-align: top;\n",
              "    }\n",
              "\n",
              "    .dataframe thead th {\n",
              "        text-align: right;\n",
              "    }\n",
              "</style>\n",
              "<table border=\"1\" class=\"dataframe\">\n",
              "  <thead>\n",
              "    <tr style=\"text-align: right;\">\n",
              "      <th></th>\n",
              "      <th>W</th>\n",
              "      <th>X</th>\n",
              "      <th>Y</th>\n",
              "      <th>Z</th>\n",
              "      <th>A</th>\n",
              "    </tr>\n",
              "  </thead>\n",
              "  <tbody>\n",
              "    <tr>\n",
              "      <th>A</th>\n",
              "      <td>0.176641</td>\n",
              "      <td>0.046955</td>\n",
              "      <td>-0.649812</td>\n",
              "      <td>0.230011</td>\n",
              "      <td>-0.473171</td>\n",
              "    </tr>\n",
              "    <tr>\n",
              "      <th>B</th>\n",
              "      <td>-0.813205</td>\n",
              "      <td>-1.253921</td>\n",
              "      <td>0.676913</td>\n",
              "      <td>-0.316795</td>\n",
              "      <td>-0.136293</td>\n",
              "    </tr>\n",
              "    <tr>\n",
              "      <th>D</th>\n",
              "      <td>-0.602448</td>\n",
              "      <td>0.208416</td>\n",
              "      <td>0.125004</td>\n",
              "      <td>-0.822847</td>\n",
              "      <td>-0.477444</td>\n",
              "    </tr>\n",
              "    <tr>\n",
              "      <th>E</th>\n",
              "      <td>-0.320454</td>\n",
              "      <td>-0.064663</td>\n",
              "      <td>-0.849593</td>\n",
              "      <td>-1.033255</td>\n",
              "      <td>-1.170047</td>\n",
              "    </tr>\n",
              "  </tbody>\n",
              "</table>\n",
              "</div>"
            ],
            "text/plain": [
              "          W         X         Y         Z         A\n",
              "A  0.176641  0.046955 -0.649812  0.230011 -0.473171\n",
              "B -0.813205 -1.253921  0.676913 -0.316795 -0.136293\n",
              "D -0.602448  0.208416  0.125004 -0.822847 -0.477444\n",
              "E -0.320454 -0.064663 -0.849593 -1.033255 -1.170047"
            ]
          },
          "metadata": {
            "tags": []
          },
          "execution_count": 90
        }
      ]
    },
    {
      "cell_type": "code",
      "metadata": {
        "id": "m8loAfFnjdfj",
        "colab_type": "code",
        "colab": {},
        "outputId": "04a9bd9b-2a79-4688-8630-eaccee09c4d7"
      },
      "source": [
        "df"
      ],
      "execution_count": null,
      "outputs": [
        {
          "output_type": "execute_result",
          "data": {
            "text/html": [
              "<div>\n",
              "<style scoped>\n",
              "    .dataframe tbody tr th:only-of-type {\n",
              "        vertical-align: middle;\n",
              "    }\n",
              "\n",
              "    .dataframe tbody tr th {\n",
              "        vertical-align: top;\n",
              "    }\n",
              "\n",
              "    .dataframe thead th {\n",
              "        text-align: right;\n",
              "    }\n",
              "</style>\n",
              "<table border=\"1\" class=\"dataframe\">\n",
              "  <thead>\n",
              "    <tr style=\"text-align: right;\">\n",
              "      <th></th>\n",
              "      <th>W</th>\n",
              "      <th>X</th>\n",
              "      <th>Y</th>\n",
              "      <th>Z</th>\n",
              "      <th>A</th>\n",
              "    </tr>\n",
              "  </thead>\n",
              "  <tbody>\n",
              "    <tr>\n",
              "      <th>A</th>\n",
              "      <td>0.176641</td>\n",
              "      <td>0.046955</td>\n",
              "      <td>-0.649812</td>\n",
              "      <td>0.230011</td>\n",
              "      <td>-0.473171</td>\n",
              "    </tr>\n",
              "    <tr>\n",
              "      <th>B</th>\n",
              "      <td>-0.813205</td>\n",
              "      <td>-1.253921</td>\n",
              "      <td>0.676913</td>\n",
              "      <td>-0.316795</td>\n",
              "      <td>-0.136293</td>\n",
              "    </tr>\n",
              "    <tr>\n",
              "      <th>C</th>\n",
              "      <td>-0.111327</td>\n",
              "      <td>1.258091</td>\n",
              "      <td>-0.104598</td>\n",
              "      <td>1.671973</td>\n",
              "      <td>-0.215926</td>\n",
              "    </tr>\n",
              "    <tr>\n",
              "      <th>D</th>\n",
              "      <td>-0.602448</td>\n",
              "      <td>0.208416</td>\n",
              "      <td>0.125004</td>\n",
              "      <td>-0.822847</td>\n",
              "      <td>-0.477444</td>\n",
              "    </tr>\n",
              "    <tr>\n",
              "      <th>E</th>\n",
              "      <td>-0.320454</td>\n",
              "      <td>-0.064663</td>\n",
              "      <td>-0.849593</td>\n",
              "      <td>-1.033255</td>\n",
              "      <td>-1.170047</td>\n",
              "    </tr>\n",
              "  </tbody>\n",
              "</table>\n",
              "</div>"
            ],
            "text/plain": [
              "          W         X         Y         Z         A\n",
              "A  0.176641  0.046955 -0.649812  0.230011 -0.473171\n",
              "B -0.813205 -1.253921  0.676913 -0.316795 -0.136293\n",
              "C -0.111327  1.258091 -0.104598  1.671973 -0.215926\n",
              "D -0.602448  0.208416  0.125004 -0.822847 -0.477444\n",
              "E -0.320454 -0.064663 -0.849593 -1.033255 -1.170047"
            ]
          },
          "metadata": {
            "tags": []
          },
          "execution_count": 91
        }
      ]
    },
    {
      "cell_type": "code",
      "metadata": {
        "id": "6kCLop1Gjdfl",
        "colab_type": "code",
        "colab": {},
        "outputId": "6976efb6-1c09-40e9-f8ec-1d3aacfcc5fb"
      },
      "source": [
        "df.loc[\"D\"]"
      ],
      "execution_count": null,
      "outputs": [
        {
          "output_type": "execute_result",
          "data": {
            "text/plain": [
              "W   -0.602448\n",
              "X    0.208416\n",
              "Y    0.125004\n",
              "Z   -0.822847\n",
              "A   -0.477444\n",
              "Name: D, dtype: float64"
            ]
          },
          "metadata": {
            "tags": []
          },
          "execution_count": 98
        }
      ]
    },
    {
      "cell_type": "code",
      "metadata": {
        "id": "ns_dChysjdfn",
        "colab_type": "code",
        "colab": {},
        "outputId": "5e47bc89-bd1e-43d4-b26d-0d63b44997d2"
      },
      "source": [
        "df.iloc[3]"
      ],
      "execution_count": null,
      "outputs": [
        {
          "output_type": "execute_result",
          "data": {
            "text/plain": [
              "W   -0.602448\n",
              "X    0.208416\n",
              "Y    0.125004\n",
              "Z   -0.822847\n",
              "A   -0.477444\n",
              "Name: D, dtype: float64"
            ]
          },
          "metadata": {
            "tags": []
          },
          "execution_count": 101
        }
      ]
    },
    {
      "cell_type": "code",
      "metadata": {
        "id": "2k3JuMh6jdfp",
        "colab_type": "code",
        "colab": {}
      },
      "source": [
        "data = pd.read_csv('D:\\\\DATA SCIENCE\\\\Data Sets\\\\File_Reading_Files\\\\Sample.csv')"
      ],
      "execution_count": null,
      "outputs": []
    },
    {
      "cell_type": "code",
      "metadata": {
        "id": "r9-_Wzfyjdfr",
        "colab_type": "code",
        "colab": {},
        "outputId": "6f340050-e9d0-446f-880c-3ca2f20e943c"
      },
      "source": [
        "data.shape"
      ],
      "execution_count": null,
      "outputs": [
        {
          "output_type": "execute_result",
          "data": {
            "text/plain": [
              "(15, 11)"
            ]
          },
          "metadata": {
            "tags": []
          },
          "execution_count": 105
        }
      ]
    },
    {
      "cell_type": "code",
      "metadata": {
        "id": "6mX03I6bjdfu",
        "colab_type": "code",
        "colab": {},
        "outputId": "8d378424-0568-49c6-fa58-e5a46bdc2d68"
      },
      "source": [
        "data.head(11)"
      ],
      "execution_count": null,
      "outputs": [
        {
          "output_type": "execute_result",
          "data": {
            "text/html": [
              "<div>\n",
              "<style scoped>\n",
              "    .dataframe tbody tr th:only-of-type {\n",
              "        vertical-align: middle;\n",
              "    }\n",
              "\n",
              "    .dataframe tbody tr th {\n",
              "        vertical-align: top;\n",
              "    }\n",
              "\n",
              "    .dataframe thead th {\n",
              "        text-align: right;\n",
              "    }\n",
              "</style>\n",
              "<table border=\"1\" class=\"dataframe\">\n",
              "  <thead>\n",
              "    <tr style=\"text-align: right;\">\n",
              "      <th></th>\n",
              "      <th>Row ID</th>\n",
              "      <th>Ship Mode</th>\n",
              "      <th>Customer ID</th>\n",
              "      <th>Customer Name</th>\n",
              "      <th>Product Name</th>\n",
              "      <th>Sales</th>\n",
              "      <th>Quantity</th>\n",
              "      <th>Discount</th>\n",
              "      <th>Profit</th>\n",
              "      <th>Shipping Cost</th>\n",
              "      <th>Order Priority</th>\n",
              "    </tr>\n",
              "  </thead>\n",
              "  <tbody>\n",
              "    <tr>\n",
              "      <th>0</th>\n",
              "      <td>38198</td>\n",
              "      <td>Same Day</td>\n",
              "      <td>HR-14830</td>\n",
              "      <td>Harold Ryan</td>\n",
              "      <td>Hewlett Packard LaserJet 3310 Copier</td>\n",
              "      <td>2399.960</td>\n",
              "      <td>5</td>\n",
              "      <td>0.2</td>\n",
              "      <td>839.9860</td>\n",
              "      <td>630.05</td>\n",
              "      <td>High</td>\n",
              "    </tr>\n",
              "    <tr>\n",
              "      <th>1</th>\n",
              "      <td>29047</td>\n",
              "      <td>First Class</td>\n",
              "      <td>SG-20470</td>\n",
              "      <td>Sheri Gordon</td>\n",
              "      <td>Hewlett Wireless Fax, Color</td>\n",
              "      <td>1526.520</td>\n",
              "      <td>4</td>\n",
              "      <td>0.0</td>\n",
              "      <td>732.7200</td>\n",
              "      <td>625.77</td>\n",
              "      <td>Critical</td>\n",
              "    </tr>\n",
              "    <tr>\n",
              "      <th>2</th>\n",
              "      <td>19559</td>\n",
              "      <td>Second Class</td>\n",
              "      <td>EM-14065</td>\n",
              "      <td>Erin Mull</td>\n",
              "      <td>Hewlett Wireless Fax, Laser</td>\n",
              "      <td>1900.950</td>\n",
              "      <td>5</td>\n",
              "      <td>0.0</td>\n",
              "      <td>589.2000</td>\n",
              "      <td>506.89</td>\n",
              "      <td>High</td>\n",
              "    </tr>\n",
              "    <tr>\n",
              "      <th>3</th>\n",
              "      <td>23880</td>\n",
              "      <td>First Class</td>\n",
              "      <td>SV-20815</td>\n",
              "      <td>Stuart Van</td>\n",
              "      <td>Hewlett Fax Machine, High-Speed</td>\n",
              "      <td>1590.600</td>\n",
              "      <td>5</td>\n",
              "      <td>0.0</td>\n",
              "      <td>572.5500</td>\n",
              "      <td>493.20</td>\n",
              "      <td>Critical</td>\n",
              "    </tr>\n",
              "    <tr>\n",
              "      <th>4</th>\n",
              "      <td>17765</td>\n",
              "      <td>Second Class</td>\n",
              "      <td>SB-20290</td>\n",
              "      <td>Sean Braxton</td>\n",
              "      <td>Hewlett Wireless Fax, Color</td>\n",
              "      <td>2671.410</td>\n",
              "      <td>7</td>\n",
              "      <td>0.0</td>\n",
              "      <td>534.2400</td>\n",
              "      <td>483.04</td>\n",
              "      <td>High</td>\n",
              "    </tr>\n",
              "    <tr>\n",
              "      <th>5</th>\n",
              "      <td>36859</td>\n",
              "      <td>Second Class</td>\n",
              "      <td>JE-15610</td>\n",
              "      <td>Jim Epp</td>\n",
              "      <td>Hewlett Packard LaserJet 3310 Copier</td>\n",
              "      <td>2999.950</td>\n",
              "      <td>5</td>\n",
              "      <td>0.0</td>\n",
              "      <td>1439.9760</td>\n",
              "      <td>439.69</td>\n",
              "      <td>High</td>\n",
              "    </tr>\n",
              "    <tr>\n",
              "      <th>6</th>\n",
              "      <td>39211</td>\n",
              "      <td>Standard Class</td>\n",
              "      <td>SR-20740</td>\n",
              "      <td>Steven Roelle</td>\n",
              "      <td>Hewlett-Packard Desktjet 6988DT Refurbished Pr...</td>\n",
              "      <td>3404.500</td>\n",
              "      <td>5</td>\n",
              "      <td>0.0</td>\n",
              "      <td>1668.2050</td>\n",
              "      <td>419.06</td>\n",
              "      <td>High</td>\n",
              "    </tr>\n",
              "    <tr>\n",
              "      <th>7</th>\n",
              "      <td>33283</td>\n",
              "      <td>First Class</td>\n",
              "      <td>CB-12415</td>\n",
              "      <td>Christy Brittain</td>\n",
              "      <td>Hewlett Packard LaserJet 3310 Copier</td>\n",
              "      <td>1439.976</td>\n",
              "      <td>4</td>\n",
              "      <td>0.4</td>\n",
              "      <td>191.9968</td>\n",
              "      <td>408.79</td>\n",
              "      <td>Critical</td>\n",
              "    </tr>\n",
              "    <tr>\n",
              "      <th>8</th>\n",
              "      <td>26932</td>\n",
              "      <td>Standard Class</td>\n",
              "      <td>GB-14530</td>\n",
              "      <td>George Bell</td>\n",
              "      <td>Hewlett Wireless Fax, Laser</td>\n",
              "      <td>4448.223</td>\n",
              "      <td>13</td>\n",
              "      <td>0.1</td>\n",
              "      <td>444.4830</td>\n",
              "      <td>386.38</td>\n",
              "      <td>Medium</td>\n",
              "    </tr>\n",
              "    <tr>\n",
              "      <th>9</th>\n",
              "      <td>26037</td>\n",
              "      <td>First Class</td>\n",
              "      <td>CT-11995</td>\n",
              "      <td>Carol Triggs</td>\n",
              "      <td>Hewlett Wireless Fax, Digital</td>\n",
              "      <td>3038.640</td>\n",
              "      <td>8</td>\n",
              "      <td>0.0</td>\n",
              "      <td>1245.8400</td>\n",
              "      <td>371.51</td>\n",
              "      <td>High</td>\n",
              "    </tr>\n",
              "    <tr>\n",
              "      <th>10</th>\n",
              "      <td>47029</td>\n",
              "      <td>Same Day</td>\n",
              "      <td>SG-10605</td>\n",
              "      <td>Speros Goranitis</td>\n",
              "      <td>Hewlett Fax and Copier, Color</td>\n",
              "      <td>1554.480</td>\n",
              "      <td>8</td>\n",
              "      <td>0.0</td>\n",
              "      <td>341.7600</td>\n",
              "      <td>366.58</td>\n",
              "      <td>High</td>\n",
              "    </tr>\n",
              "  </tbody>\n",
              "</table>\n",
              "</div>"
            ],
            "text/plain": [
              "    Row ID       Ship Mode Customer ID     Customer Name  \\\n",
              "0    38198        Same Day    HR-14830       Harold Ryan   \n",
              "1    29047     First Class    SG-20470      Sheri Gordon   \n",
              "2    19559    Second Class    EM-14065         Erin Mull   \n",
              "3    23880     First Class    SV-20815        Stuart Van   \n",
              "4    17765    Second Class    SB-20290      Sean Braxton   \n",
              "5    36859    Second Class    JE-15610           Jim Epp   \n",
              "6    39211  Standard Class    SR-20740     Steven Roelle   \n",
              "7    33283     First Class    CB-12415  Christy Brittain   \n",
              "8    26932  Standard Class    GB-14530       George Bell   \n",
              "9    26037     First Class    CT-11995      Carol Triggs   \n",
              "10   47029        Same Day    SG-10605  Speros Goranitis   \n",
              "\n",
              "                                         Product Name     Sales  Quantity  \\\n",
              "0                Hewlett Packard LaserJet 3310 Copier  2399.960         5   \n",
              "1                         Hewlett Wireless Fax, Color  1526.520         4   \n",
              "2                         Hewlett Wireless Fax, Laser  1900.950         5   \n",
              "3                     Hewlett Fax Machine, High-Speed  1590.600         5   \n",
              "4                         Hewlett Wireless Fax, Color  2671.410         7   \n",
              "5                Hewlett Packard LaserJet 3310 Copier  2999.950         5   \n",
              "6   Hewlett-Packard Desktjet 6988DT Refurbished Pr...  3404.500         5   \n",
              "7                Hewlett Packard LaserJet 3310 Copier  1439.976         4   \n",
              "8                         Hewlett Wireless Fax, Laser  4448.223        13   \n",
              "9                       Hewlett Wireless Fax, Digital  3038.640         8   \n",
              "10                      Hewlett Fax and Copier, Color  1554.480         8   \n",
              "\n",
              "    Discount     Profit  Shipping Cost Order Priority  \n",
              "0        0.2   839.9860         630.05           High  \n",
              "1        0.0   732.7200         625.77       Critical  \n",
              "2        0.0   589.2000         506.89           High  \n",
              "3        0.0   572.5500         493.20       Critical  \n",
              "4        0.0   534.2400         483.04           High  \n",
              "5        0.0  1439.9760         439.69           High  \n",
              "6        0.0  1668.2050         419.06           High  \n",
              "7        0.4   191.9968         408.79       Critical  \n",
              "8        0.1   444.4830         386.38         Medium  \n",
              "9        0.0  1245.8400         371.51           High  \n",
              "10       0.0   341.7600         366.58           High  "
            ]
          },
          "metadata": {
            "tags": []
          },
          "execution_count": 111
        }
      ]
    },
    {
      "cell_type": "code",
      "metadata": {
        "id": "qBvypqQBjdfv",
        "colab_type": "code",
        "colab": {},
        "outputId": "82737f76-aa91-44b8-ff0e-fb2f5d0a56ce"
      },
      "source": [
        "data.tail()"
      ],
      "execution_count": null,
      "outputs": [
        {
          "output_type": "execute_result",
          "data": {
            "text/html": [
              "<div>\n",
              "<style scoped>\n",
              "    .dataframe tbody tr th:only-of-type {\n",
              "        vertical-align: middle;\n",
              "    }\n",
              "\n",
              "    .dataframe tbody tr th {\n",
              "        vertical-align: top;\n",
              "    }\n",
              "\n",
              "    .dataframe thead th {\n",
              "        text-align: right;\n",
              "    }\n",
              "</style>\n",
              "<table border=\"1\" class=\"dataframe\">\n",
              "  <thead>\n",
              "    <tr style=\"text-align: right;\">\n",
              "      <th></th>\n",
              "      <th>Row ID</th>\n",
              "      <th>Ship Mode</th>\n",
              "      <th>Customer ID</th>\n",
              "      <th>Customer Name</th>\n",
              "      <th>Product Name</th>\n",
              "      <th>Sales</th>\n",
              "      <th>Quantity</th>\n",
              "      <th>Discount</th>\n",
              "      <th>Profit</th>\n",
              "      <th>Shipping Cost</th>\n",
              "      <th>Order Priority</th>\n",
              "    </tr>\n",
              "  </thead>\n",
              "  <tbody>\n",
              "    <tr>\n",
              "      <th>10</th>\n",
              "      <td>47029</td>\n",
              "      <td>Same Day</td>\n",
              "      <td>SG-10605</td>\n",
              "      <td>Speros Goranitis</td>\n",
              "      <td>Hewlett Fax and Copier, Color</td>\n",
              "      <td>1554.4800</td>\n",
              "      <td>8</td>\n",
              "      <td>0.000</td>\n",
              "      <td>341.7600</td>\n",
              "      <td>366.58</td>\n",
              "      <td>High</td>\n",
              "    </tr>\n",
              "    <tr>\n",
              "      <th>11</th>\n",
              "      <td>32050</td>\n",
              "      <td>First Class</td>\n",
              "      <td>YC-21895</td>\n",
              "      <td>Yoseph Carroll</td>\n",
              "      <td>Hewlett Packard 610 Color Digital Copier / Pri...</td>\n",
              "      <td>1199.9760</td>\n",
              "      <td>3</td>\n",
              "      <td>0.200</td>\n",
              "      <td>374.9925</td>\n",
              "      <td>363.78</td>\n",
              "      <td>High</td>\n",
              "    </tr>\n",
              "    <tr>\n",
              "      <th>12</th>\n",
              "      <td>4027</td>\n",
              "      <td>Second Class</td>\n",
              "      <td>FM-14215</td>\n",
              "      <td>Filia McAdams</td>\n",
              "      <td>Hewlett Fax Machine, High-Speed</td>\n",
              "      <td>1058.2792</td>\n",
              "      <td>5</td>\n",
              "      <td>0.002</td>\n",
              "      <td>-2.1208</td>\n",
              "      <td>354.42</td>\n",
              "      <td>Critical</td>\n",
              "    </tr>\n",
              "    <tr>\n",
              "      <th>13</th>\n",
              "      <td>25179</td>\n",
              "      <td>Same Day</td>\n",
              "      <td>AM-10705</td>\n",
              "      <td>Anne McFarland</td>\n",
              "      <td>Hewlett Copy Machine, Color</td>\n",
              "      <td>1479.3138</td>\n",
              "      <td>6</td>\n",
              "      <td>0.070</td>\n",
              "      <td>-63.6462</td>\n",
              "      <td>350.31</td>\n",
              "      <td>High</td>\n",
              "    </tr>\n",
              "    <tr>\n",
              "      <th>14</th>\n",
              "      <td>24610</td>\n",
              "      <td>Second Class</td>\n",
              "      <td>BP-11290</td>\n",
              "      <td>Beth Paige</td>\n",
              "      <td>Hewlett Personal Copier, High-Speed</td>\n",
              "      <td>1282.2300</td>\n",
              "      <td>9</td>\n",
              "      <td>0.000</td>\n",
              "      <td>12.6900</td>\n",
              "      <td>349.88</td>\n",
              "      <td>Critical</td>\n",
              "    </tr>\n",
              "  </tbody>\n",
              "</table>\n",
              "</div>"
            ],
            "text/plain": [
              "    Row ID     Ship Mode Customer ID     Customer Name  \\\n",
              "10   47029      Same Day    SG-10605  Speros Goranitis   \n",
              "11   32050   First Class    YC-21895    Yoseph Carroll   \n",
              "12    4027  Second Class    FM-14215     Filia McAdams   \n",
              "13   25179      Same Day    AM-10705    Anne McFarland   \n",
              "14   24610  Second Class    BP-11290        Beth Paige   \n",
              "\n",
              "                                         Product Name      Sales  Quantity  \\\n",
              "10                      Hewlett Fax and Copier, Color  1554.4800         8   \n",
              "11  Hewlett Packard 610 Color Digital Copier / Pri...  1199.9760         3   \n",
              "12                    Hewlett Fax Machine, High-Speed  1058.2792         5   \n",
              "13                        Hewlett Copy Machine, Color  1479.3138         6   \n",
              "14                Hewlett Personal Copier, High-Speed  1282.2300         9   \n",
              "\n",
              "    Discount    Profit  Shipping Cost Order Priority  \n",
              "10     0.000  341.7600         366.58           High  \n",
              "11     0.200  374.9925         363.78           High  \n",
              "12     0.002   -2.1208         354.42       Critical  \n",
              "13     0.070  -63.6462         350.31           High  \n",
              "14     0.000   12.6900         349.88       Critical  "
            ]
          },
          "metadata": {
            "tags": []
          },
          "execution_count": 108
        }
      ]
    },
    {
      "cell_type": "code",
      "metadata": {
        "id": "l4PPrmGcjdfx",
        "colab_type": "code",
        "colab": {}
      },
      "source": [
        "import json\n",
        "pd.read_json(\"\")"
      ],
      "execution_count": null,
      "outputs": []
    },
    {
      "cell_type": "code",
      "metadata": {
        "id": "KVhe6lZHjdfz",
        "colab_type": "code",
        "colab": {}
      },
      "source": [
        "pd.read_excel(\"xlsx\")"
      ],
      "execution_count": null,
      "outputs": []
    },
    {
      "cell_type": "code",
      "metadata": {
        "id": "I73bkdZYjdf1",
        "colab_type": "code",
        "colab": {}
      },
      "source": [
        "import xml.etree.ElementTree as et\n",
        "xtree = et.parse('')\n",
        "xroot = xtree.getroot()"
      ],
      "execution_count": null,
      "outputs": []
    },
    {
      "cell_type": "code",
      "metadata": {
        "id": "1AG_itzjjdf2",
        "colab_type": "code",
        "colab": {}
      },
      "source": [
        ""
      ],
      "execution_count": null,
      "outputs": []
    },
    {
      "cell_type": "code",
      "metadata": {
        "id": "-vLg3nDJjdf4",
        "colab_type": "code",
        "colab": {}
      },
      "source": [
        ""
      ],
      "execution_count": null,
      "outputs": []
    }
  ]
}