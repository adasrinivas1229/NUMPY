{
  "nbformat": 4,
  "nbformat_minor": 0,
  "metadata": {
    "colab": {
      "name": "numpybymlm.ipynb",
      "provenance": [],
      "authorship_tag": "ABX9TyM9ii0GLsvYyZFeJIj6Vou4",
      "include_colab_link": true
    },
    "kernelspec": {
      "name": "python3",
      "display_name": "Python 3"
    }
  },
  "cells": [
    {
      "cell_type": "markdown",
      "metadata": {
        "id": "view-in-github",
        "colab_type": "text"
      },
      "source": [
        "<a href=\"https://colab.research.google.com/github/adasrinivas1229/NUMPY_STACK/blob/master/numpybymlm.ipynb\" target=\"_parent\"><img src=\"https://colab.research.google.com/assets/colab-badge.svg\" alt=\"Open In Colab\"/></a>"
      ]
    },
    {
      "cell_type": "code",
      "metadata": {
        "id": "NF4nSDmOIzr6",
        "colab_type": "code",
        "colab": {}
      },
      "source": [
        "import numpy as np"
      ],
      "execution_count": 1,
      "outputs": []
    },
    {
      "cell_type": "markdown",
      "metadata": {
        "id": "yvAczJXkM-PG",
        "colab_type": "text"
      },
      "source": [
        "# SHAPE DTYPE AND NDIM attributes of an ARRAY"
      ]
    },
    {
      "cell_type": "markdown",
      "metadata": {
        "id": "4JS3BYrCJQJm",
        "colab_type": "text"
      },
      "source": [
        "A simple way to create an array from data or simple Python data structures like a list is to use the array() function.\n",
        "\n",
        "The example below creates a Python list of 3 floating point values, then creates an ndarray from the list and access the arrays’ shape and data type."
      ]
    },
    {
      "cell_type": "code",
      "metadata": {
        "id": "ZaRUj_OyJdKu",
        "colab_type": "code",
        "colab": {
          "base_uri": "https://localhost:8080/",
          "height": 84
        },
        "outputId": "6a3b10c0-e09e-4c9f-c16e-155668a70b8d"
      },
      "source": [
        "# create array\n",
        "from numpy import array\n",
        "l = [1.0, 2.0, 3.0]\n",
        "a = array(l)\n",
        "print(a)\n",
        "print(a.shape)\n",
        "print(a.dtype)\n",
        "print(a.ndim)"
      ],
      "execution_count": 7,
      "outputs": [
        {
          "output_type": "stream",
          "text": [
            "[1. 2. 3.]\n",
            "(3,)\n",
            "float64\n",
            "1\n"
          ],
          "name": "stdout"
        }
      ]
    },
    {
      "cell_type": "code",
      "metadata": {
        "id": "RTeSS4ZFK_GK",
        "colab_type": "code",
        "colab": {
          "base_uri": "https://localhost:8080/",
          "height": 84
        },
        "outputId": "bbb9626a-cf45-49b6-fff2-0bf49fea30e6"
      },
      "source": [
        "# create array\n",
        "from numpy import array\n",
        "l = [[1.0, 2.0, 3.0]]\n",
        "a = array(l)\n",
        "print(a)\n",
        "print(a.shape)\n",
        "print(a.dtype)\n",
        "print(a.ndim)"
      ],
      "execution_count": 8,
      "outputs": [
        {
          "output_type": "stream",
          "text": [
            "[[1. 2. 3.]]\n",
            "(1, 3)\n",
            "float64\n",
            "2\n"
          ],
          "name": "stdout"
        }
      ]
    },
    {
      "cell_type": "code",
      "metadata": {
        "id": "MTkS5d5ILiEc",
        "colab_type": "code",
        "colab": {
          "base_uri": "https://localhost:8080/",
          "height": 118
        },
        "outputId": "979b4528-083e-4287-8ef6-7b553d6358fc"
      },
      "source": [
        "# create array\n",
        "from numpy import array\n",
        "l = [[1.0], [2.0], [3.0]]\n",
        "a = array(l)\n",
        "print(a)\n",
        "print(a.shape)\n",
        "print(a.dtype)\n",
        "print(a.ndim)"
      ],
      "execution_count": 9,
      "outputs": [
        {
          "output_type": "stream",
          "text": [
            "[[1.]\n",
            " [2.]\n",
            " [3.]]\n",
            "(3, 1)\n",
            "float64\n",
            "2\n"
          ],
          "name": "stdout"
        }
      ]
    },
    {
      "cell_type": "markdown",
      "metadata": {
        "id": "093OqWC6NPTC",
        "colab_type": "text"
      },
      "source": [
        "# Functions to Create Arrays"
      ]
    },
    {
      "cell_type": "markdown",
      "metadata": {
        "id": "5hiNt51hUWul",
        "colab_type": "text"
      },
      "source": [
        "# Empty\n",
        "The empty() function will create a new array of the specified shape.\n",
        "\n",
        "The argument to the function is an array or tuple that specifies the length of each dimension of the array to create. The values or content of the created array will be random and will need to be assigned before use.\n",
        "\n",
        "The example below creates an empty 3×3 two-dimensional array."
      ]
    },
    {
      "cell_type": "code",
      "metadata": {
        "id": "lvX6fplnUZke",
        "colab_type": "code",
        "colab": {
          "base_uri": "https://localhost:8080/",
          "height": 67
        },
        "outputId": "769ed6bf-f5be-4fe8-fa04-e8acfdeb3bcb"
      },
      "source": [
        "# create empty array\n",
        "from numpy import empty\n",
        "a = empty([3,3])\n",
        "print(a)"
      ],
      "execution_count": 13,
      "outputs": [
        {
          "output_type": "stream",
          "text": [
            "[[3.8497595e-316 0.0000000e+000 0.0000000e+000]\n",
            " [0.0000000e+000 0.0000000e+000 0.0000000e+000]\n",
            " [0.0000000e+000 0.0000000e+000 0.0000000e+000]]\n"
          ],
          "name": "stdout"
        }
      ]
    },
    {
      "cell_type": "markdown",
      "metadata": {
        "id": "2RpxxiXLUw57",
        "colab_type": "text"
      },
      "source": [
        "# Zeros\n",
        "The zeros() function will create a new array of the specified size with the contents filled with zero values.\n",
        "\n",
        "The argument to the function is an array or tuple that specifies the length of each dimension of the array to create.\n",
        "\n",
        "The example below creates a 3×5 zero two-dimensional array."
      ]
    },
    {
      "cell_type": "code",
      "metadata": {
        "id": "OWuMZMX6VApa",
        "colab_type": "code",
        "colab": {
          "base_uri": "https://localhost:8080/",
          "height": 67
        },
        "outputId": "d7459e4a-c90c-4860-83a3-dc758afad93d"
      },
      "source": [
        "# create zero array\n",
        "from numpy import zeros\n",
        "a = zeros([3,5])\n",
        "print(a)"
      ],
      "execution_count": 14,
      "outputs": [
        {
          "output_type": "stream",
          "text": [
            "[[0. 0. 0. 0. 0.]\n",
            " [0. 0. 0. 0. 0.]\n",
            " [0. 0. 0. 0. 0.]]\n"
          ],
          "name": "stdout"
        }
      ]
    },
    {
      "cell_type": "markdown",
      "metadata": {
        "id": "YfZY6XrMVJO8",
        "colab_type": "text"
      },
      "source": [
        "# Ones\n",
        "The ones() function will create a new array of the specified size with the contents filled with one values.\n",
        "\n",
        "The argument to the function is an array or tuple that specifies the length of each dimension of the array to create.\n",
        "\n",
        "The example below creates a 5-element one-dimensional array."
      ]
    },
    {
      "cell_type": "code",
      "metadata": {
        "id": "Z6brNV5qVLj-",
        "colab_type": "code",
        "colab": {
          "base_uri": "https://localhost:8080/",
          "height": 34
        },
        "outputId": "2f3ab1fa-2bad-4ae6-92dc-d8f9395a2481"
      },
      "source": [
        "# create one array\n",
        "from numpy import ones\n",
        "a = ones([5])\n",
        "print(a)"
      ],
      "execution_count": 15,
      "outputs": [
        {
          "output_type": "stream",
          "text": [
            "[1. 1. 1. 1. 1.]\n"
          ],
          "name": "stdout"
        }
      ]
    },
    {
      "cell_type": "markdown",
      "metadata": {
        "id": "Q0FTWA3VVarr",
        "colab_type": "text"
      },
      "source": [
        "# How to Index, Slice and Reshape NumPy Arrays"
      ]
    },
    {
      "cell_type": "code",
      "metadata": {
        "id": "7Ko8LXdYVnEQ",
        "colab_type": "code",
        "colab": {
          "base_uri": "https://localhost:8080/",
          "height": 50
        },
        "outputId": "64a35f09-5fb6-45d8-fd02-1d2346b87500"
      },
      "source": [
        "#1. From List to Arrays\n",
        "# one dimensional example\n",
        "from numpy import array\n",
        "# list of data\n",
        "data = [11, 22, 33, 44, 55]\n",
        "# array of data\n",
        "data = array(data)\n",
        "print(data)\n",
        "print(type(data))"
      ],
      "execution_count": 16,
      "outputs": [
        {
          "output_type": "stream",
          "text": [
            "[11 22 33 44 55]\n",
            "<class 'numpy.ndarray'>\n"
          ],
          "name": "stdout"
        }
      ]
    },
    {
      "cell_type": "code",
      "metadata": {
        "id": "F21_OHpwV-oz",
        "colab_type": "code",
        "colab": {
          "base_uri": "https://localhost:8080/",
          "height": 84
        },
        "outputId": "b85d7325-6e6d-4d70-adb0-ba92148edb10"
      },
      "source": [
        "#1. From List to Arrays\n",
        "# two dimensional example\n",
        "from numpy import array\n",
        "# list of data\n",
        "data = [[11, 22],\n",
        "\t\t[33, 44],\n",
        "\t\t[55, 66]]\n",
        "# array of data\n",
        "data = array(data)\n",
        "print(data)\n",
        "print(type(data))"
      ],
      "execution_count": 17,
      "outputs": [
        {
          "output_type": "stream",
          "text": [
            "[[11 22]\n",
            " [33 44]\n",
            " [55 66]]\n",
            "<class 'numpy.ndarray'>\n"
          ],
          "name": "stdout"
        }
      ]
    },
    {
      "cell_type": "code",
      "metadata": {
        "id": "ZTTGJxWEWQrh",
        "colab_type": "code",
        "colab": {
          "base_uri": "https://localhost:8080/",
          "height": 50
        },
        "outputId": "51799f01-21c1-4028-b879-48167ac21574"
      },
      "source": [
        "#2. Array Indexing\n",
        "# simple indexing\n",
        "from numpy import array\n",
        "# define array\n",
        "data = array([11, 22, 33, 44, 55])\n",
        "# index data\n",
        "print(data[0])\n",
        "print(data[4])"
      ],
      "execution_count": 18,
      "outputs": [
        {
          "output_type": "stream",
          "text": [
            "11\n",
            "55\n"
          ],
          "name": "stdout"
        }
      ]
    },
    {
      "cell_type": "code",
      "metadata": {
        "id": "XQfAKqZXWgHa",
        "colab_type": "code",
        "colab": {}
      },
      "source": [
        "#2. Array Indexing\n",
        "# simple indexing\n",
        "from numpy import array\n",
        "# define array\n",
        "data = array([11, 22, 33, 44, 55])\n",
        "# index data\n",
        "print(data[5])"
      ],
      "execution_count": null,
      "outputs": []
    },
    {
      "cell_type": "code",
      "metadata": {
        "id": "IlE2qxJiWwip",
        "colab_type": "code",
        "colab": {
          "base_uri": "https://localhost:8080/",
          "height": 50
        },
        "outputId": "51886bb5-85b2-4f65-ad00-0cbcfeac2c10"
      },
      "source": [
        "#2. Array Indexing\n",
        "# simple indexing\n",
        "from numpy import array\n",
        "# define array\n",
        "data = array([11, 22, 33, 44, 55])\n",
        "# index data\n",
        "print(data[-1])\n",
        "print(data[-5])"
      ],
      "execution_count": 20,
      "outputs": [
        {
          "output_type": "stream",
          "text": [
            "55\n",
            "11\n"
          ],
          "name": "stdout"
        }
      ]
    },
    {
      "cell_type": "code",
      "metadata": {
        "id": "qolmdTVvW6Su",
        "colab_type": "code",
        "colab": {
          "base_uri": "https://localhost:8080/",
          "height": 34
        },
        "outputId": "b6bdc032-c1d9-41a1-dff3-04b0651cbc5c"
      },
      "source": [
        "# 2d indexing\n",
        "from numpy import array\n",
        "# define array\n",
        "data = array([[11, 22], [33, 44], [55, 66]])\n",
        "# index data\n",
        "print(data[0,0])"
      ],
      "execution_count": 21,
      "outputs": [
        {
          "output_type": "stream",
          "text": [
            "11\n"
          ],
          "name": "stdout"
        }
      ]
    },
    {
      "cell_type": "code",
      "metadata": {
        "id": "fLHQYb-DXFE_",
        "colab_type": "code",
        "colab": {
          "base_uri": "https://localhost:8080/",
          "height": 34
        },
        "outputId": "b7a28b45-9178-438c-91e7-3116d3b4fc59"
      },
      "source": [
        "# 2d indexing\n",
        "from numpy import array\n",
        "# define array\n",
        "data = array([[11, 22], [33, 44], [55, 66]])\n",
        "# index data\n",
        "print(data[0,])"
      ],
      "execution_count": 22,
      "outputs": [
        {
          "output_type": "stream",
          "text": [
            "[11 22]\n"
          ],
          "name": "stdout"
        }
      ]
    },
    {
      "cell_type": "code",
      "metadata": {
        "id": "u_l0uPsCXJjL",
        "colab_type": "code",
        "colab": {
          "base_uri": "https://localhost:8080/",
          "height": 34
        },
        "outputId": "5c75f246-b39e-4807-e0e6-af9f99c4abcc"
      },
      "source": [
        "#3. Array Slicing\n",
        "# simple slicing\n",
        "from numpy import array\n",
        "# define array\n",
        "data = array([11, 22, 33, 44, 55])\n",
        "print(data[:])"
      ],
      "execution_count": 23,
      "outputs": [
        {
          "output_type": "stream",
          "text": [
            "[11 22 33 44 55]\n"
          ],
          "name": "stdout"
        }
      ]
    },
    {
      "cell_type": "code",
      "metadata": {
        "id": "GTueCVWjXWJh",
        "colab_type": "code",
        "colab": {
          "base_uri": "https://localhost:8080/",
          "height": 34
        },
        "outputId": "44d6c2d9-ca78-4186-cdf7-c8cd05b9a090"
      },
      "source": [
        "# simple slicing\n",
        "from numpy import array\n",
        "# define array\n",
        "data = array([11, 22, 33, 44, 55])\n",
        "print(data[0:1])"
      ],
      "execution_count": 27,
      "outputs": [
        {
          "output_type": "stream",
          "text": [
            "[11]\n"
          ],
          "name": "stdout"
        }
      ]
    },
    {
      "cell_type": "code",
      "metadata": {
        "id": "i_6osu2PXuwG",
        "colab_type": "code",
        "colab": {
          "base_uri": "https://localhost:8080/",
          "height": 34
        },
        "outputId": "bbd54eea-df02-4094-89d7-d0d47a9f27b0"
      },
      "source": [
        "# simple slicing\n",
        "from numpy import array\n",
        "# define array\n",
        "data = array([11, 22, 33, 44, 55])\n",
        "print(data[-2:])"
      ],
      "execution_count": 28,
      "outputs": [
        {
          "output_type": "stream",
          "text": [
            "[44 55]\n"
          ],
          "name": "stdout"
        }
      ]
    },
    {
      "cell_type": "code",
      "metadata": {
        "id": "RgwSoxUUYmy6",
        "colab_type": "code",
        "colab": {
          "base_uri": "https://localhost:8080/",
          "height": 84
        },
        "outputId": "e28a81d6-e0cc-422a-9442-fda06f270df5"
      },
      "source": [
        "# split input and output\n",
        "from numpy import array\n",
        "# define array\n",
        "data = array([[11, 22, 33],\n",
        "\t\t[44, 55, 66],\n",
        "\t\t[77, 88, 99]])\n",
        "# separate data\n",
        "X, y = data[:, :-1], data[:, -1]\n",
        "print(X)\n",
        "print(y)"
      ],
      "execution_count": 29,
      "outputs": [
        {
          "output_type": "stream",
          "text": [
            "[[11 22]\n",
            " [44 55]\n",
            " [77 88]]\n",
            "[33 66 99]\n"
          ],
          "name": "stdout"
        }
      ]
    },
    {
      "cell_type": "code",
      "metadata": {
        "id": "WavaZqhQZ8e1",
        "colab_type": "code",
        "colab": {
          "base_uri": "https://localhost:8080/",
          "height": 67
        },
        "outputId": "51b15f65-021f-4311-bb90-93ab8e004fd1"
      },
      "source": [
        "# split train and test\n",
        "from numpy import array\n",
        "# define array\n",
        "data = array([[11, 22, 33],\n",
        "\t\t[44, 55, 66],\n",
        "\t\t[77, 88, 99]])\n",
        "# separate data\n",
        "split = 2\n",
        "train,test = data[:split,:],data[split:,:]\n",
        "print(train)\n",
        "print(test)"
      ],
      "execution_count": 30,
      "outputs": [
        {
          "output_type": "stream",
          "text": [
            "[[11 22 33]\n",
            " [44 55 66]]\n",
            "[[77 88 99]]\n"
          ],
          "name": "stdout"
        }
      ]
    },
    {
      "cell_type": "code",
      "metadata": {
        "id": "Yc8V4hWaaRmL",
        "colab_type": "code",
        "colab": {
          "base_uri": "https://localhost:8080/",
          "height": 34
        },
        "outputId": "59873f54-0443-422d-b609-5e5019011f87"
      },
      "source": [
        "#4. Array Reshaping\n",
        "# array shape\n",
        "from numpy import array\n",
        "# define array\n",
        "data = array([11, 22, 33, 44, 55])\n",
        "print(data.shape)"
      ],
      "execution_count": 31,
      "outputs": [
        {
          "output_type": "stream",
          "text": [
            "(5,)\n"
          ],
          "name": "stdout"
        }
      ]
    },
    {
      "cell_type": "code",
      "metadata": {
        "id": "LoHntHZBa1YF",
        "colab_type": "code",
        "colab": {
          "base_uri": "https://localhost:8080/",
          "height": 34
        },
        "outputId": "1fd5a14e-5922-4700-e7b9-ed919b9bd9b4"
      },
      "source": [
        "# array shape\n",
        "from numpy import array\n",
        "# list of data\n",
        "data = [[11, 22],\n",
        "\t\t[33, 44],\n",
        "\t\t[55, 66]]\n",
        "# array of data\n",
        "data = array(data)\n",
        "print(data.shape)"
      ],
      "execution_count": 32,
      "outputs": [
        {
          "output_type": "stream",
          "text": [
            "(3, 2)\n"
          ],
          "name": "stdout"
        }
      ]
    },
    {
      "cell_type": "code",
      "metadata": {
        "id": "SatfTTIta-IQ",
        "colab_type": "code",
        "colab": {
          "base_uri": "https://localhost:8080/",
          "height": 50
        },
        "outputId": "1cdec65e-92ab-4410-c042-f8400029146a"
      },
      "source": [
        "# array shape\n",
        "from numpy import array\n",
        "# list of data\n",
        "data = [[11, 22],\n",
        "\t\t[33, 44],\n",
        "\t\t[55, 66]]\n",
        "# array of data\n",
        "data = array(data)\n",
        "print('Rows: %d' % data.shape[0])\n",
        "print('Cols: %d' % data.shape[1])"
      ],
      "execution_count": 33,
      "outputs": [
        {
          "output_type": "stream",
          "text": [
            "Rows: 3\n",
            "Cols: 2\n"
          ],
          "name": "stdout"
        }
      ]
    },
    {
      "cell_type": "code",
      "metadata": {
        "id": "ojPxfzBXbToc",
        "colab_type": "code",
        "colab": {
          "base_uri": "https://localhost:8080/",
          "height": 50
        },
        "outputId": "a9965004-115e-4556-d099-bab84711009c"
      },
      "source": [
        "# reshape 1D array to 2D array\n",
        "from numpy import array\n",
        "from numpy import reshape\n",
        "# define array\n",
        "data = array([11, 22, 33, 44, 55])\n",
        "print(data.shape)\n",
        "# reshape\n",
        "data = data.reshape((data.shape[0], 1))\n",
        "print(data.shape)"
      ],
      "execution_count": 34,
      "outputs": [
        {
          "output_type": "stream",
          "text": [
            "(5,)\n",
            "(5, 1)\n"
          ],
          "name": "stdout"
        }
      ]
    },
    {
      "cell_type": "code",
      "metadata": {
        "id": "IPA5PCKnbmK7",
        "colab_type": "code",
        "colab": {
          "base_uri": "https://localhost:8080/",
          "height": 50
        },
        "outputId": "b59f4c77-0daf-4601-ffe7-557fb37ef770"
      },
      "source": [
        "# reshape 2D array to 3D array\n",
        "from numpy import array\n",
        "# list of data\n",
        "data = [[11, 22],\n",
        "\t\t[33, 44],\n",
        "\t\t[55, 66]]\n",
        "# array of data\n",
        "data = array(data)\n",
        "print(data.shape)\n",
        "# reshape\n",
        "data = data.reshape((data.shape[0], data.shape[1], 1))\n",
        "print(data.shape)"
      ],
      "execution_count": 35,
      "outputs": [
        {
          "output_type": "stream",
          "text": [
            "(3, 2)\n",
            "(3, 2, 1)\n"
          ],
          "name": "stdout"
        }
      ]
    },
    {
      "cell_type": "markdown",
      "metadata": {
        "id": "9B5i0MUdcbl2",
        "colab_type": "text"
      },
      "source": [
        "# A Gentle Introduction to Broadcasting with NumPy Arrays"
      ]
    },
    {
      "cell_type": "code",
      "metadata": {
        "id": "v5rfmitccemf",
        "colab_type": "code",
        "colab": {
          "base_uri": "https://localhost:8080/",
          "height": 67
        },
        "outputId": "8564791d-2fee-4444-aa20-2f41b7a64f97"
      },
      "source": [
        "#Broadcasting in NumPy\n",
        "# scalar and one-dimensional\n",
        "from numpy import array\n",
        "a = array([1, 2, 3])\n",
        "print(a)\n",
        "b = 2\n",
        "print(b)\n",
        "c = a + b\n",
        "print(c)"
      ],
      "execution_count": 37,
      "outputs": [
        {
          "output_type": "stream",
          "text": [
            "[1 2 3]\n",
            "2\n",
            "[3 4 5]\n"
          ],
          "name": "stdout"
        }
      ]
    },
    {
      "cell_type": "code",
      "metadata": {
        "id": "OD6KbnPedTLf",
        "colab_type": "code",
        "colab": {
          "base_uri": "https://localhost:8080/",
          "height": 101
        },
        "outputId": "433aadce-356a-41c1-9f0b-9b64182e8957"
      },
      "source": [
        "# scalar and two-dimensional\n",
        "from numpy import array\n",
        "A = array([[1, 2, 3], [1, 2, 3]])\n",
        "print(A)\n",
        "b = 2\n",
        "print(b)\n",
        "C = A + b\n",
        "print(C)"
      ],
      "execution_count": 38,
      "outputs": [
        {
          "output_type": "stream",
          "text": [
            "[[1 2 3]\n",
            " [1 2 3]]\n",
            "2\n",
            "[[3 4 5]\n",
            " [3 4 5]]\n"
          ],
          "name": "stdout"
        }
      ]
    },
    {
      "cell_type": "code",
      "metadata": {
        "id": "5HtrKbygdcFG",
        "colab_type": "code",
        "colab": {
          "base_uri": "https://localhost:8080/",
          "height": 101
        },
        "outputId": "61fda88c-f6db-4067-a912-6f5c263b1365"
      },
      "source": [
        "# one-dimensional and two-dimensional\n",
        "from numpy import array\n",
        "A = array([[1, 2, 3], [1, 2, 3]])\n",
        "print(A)\n",
        "b = array([1, 2, 3])\n",
        "print(b)\n",
        "C = A + b\n",
        "print(C)"
      ],
      "execution_count": 39,
      "outputs": [
        {
          "output_type": "stream",
          "text": [
            "[[1 2 3]\n",
            " [1 2 3]]\n",
            "[1 2 3]\n",
            "[[2 4 6]\n",
            " [2 4 6]]\n"
          ],
          "name": "stdout"
        }
      ]
    },
    {
      "cell_type": "code",
      "metadata": {
        "id": "GHKAoouqdgpu",
        "colab_type": "code",
        "colab": {
          "base_uri": "https://localhost:8080/",
          "height": 246
        },
        "outputId": "3cc44fd1-63c8-441e-cbc4-f360785cc8de"
      },
      "source": [
        "# broadcasting error\n",
        "from numpy import array\n",
        "A = array([[1, 2, 3], [1, 2, 3]])\n",
        "print(A.shape)\n",
        "b = array([1, 2])\n",
        "print(b.shape)\n",
        "C = A + b\n",
        "print(C)"
      ],
      "execution_count": 40,
      "outputs": [
        {
          "output_type": "stream",
          "text": [
            "(2, 3)\n",
            "(2,)\n"
          ],
          "name": "stdout"
        },
        {
          "output_type": "error",
          "ename": "ValueError",
          "evalue": "ignored",
          "traceback": [
            "\u001b[0;31m---------------------------------------------------------------------------\u001b[0m",
            "\u001b[0;31mValueError\u001b[0m                                Traceback (most recent call last)",
            "\u001b[0;32m<ipython-input-40-306f6ba62cc1>\u001b[0m in \u001b[0;36m<module>\u001b[0;34m()\u001b[0m\n\u001b[1;32m      5\u001b[0m \u001b[0mb\u001b[0m \u001b[0;34m=\u001b[0m \u001b[0marray\u001b[0m\u001b[0;34m(\u001b[0m\u001b[0;34m[\u001b[0m\u001b[0;36m1\u001b[0m\u001b[0;34m,\u001b[0m \u001b[0;36m2\u001b[0m\u001b[0;34m]\u001b[0m\u001b[0;34m)\u001b[0m\u001b[0;34m\u001b[0m\u001b[0;34m\u001b[0m\u001b[0m\n\u001b[1;32m      6\u001b[0m \u001b[0mprint\u001b[0m\u001b[0;34m(\u001b[0m\u001b[0mb\u001b[0m\u001b[0;34m.\u001b[0m\u001b[0mshape\u001b[0m\u001b[0;34m)\u001b[0m\u001b[0;34m\u001b[0m\u001b[0;34m\u001b[0m\u001b[0m\n\u001b[0;32m----> 7\u001b[0;31m \u001b[0mC\u001b[0m \u001b[0;34m=\u001b[0m \u001b[0mA\u001b[0m \u001b[0;34m+\u001b[0m \u001b[0mb\u001b[0m\u001b[0;34m\u001b[0m\u001b[0;34m\u001b[0m\u001b[0m\n\u001b[0m\u001b[1;32m      8\u001b[0m \u001b[0mprint\u001b[0m\u001b[0;34m(\u001b[0m\u001b[0mC\u001b[0m\u001b[0;34m)\u001b[0m\u001b[0;34m\u001b[0m\u001b[0;34m\u001b[0m\u001b[0m\n",
            "\u001b[0;31mValueError\u001b[0m: operands could not be broadcast together with shapes (2,3) (2,) "
          ]
        }
      ]
    },
    {
      "cell_type": "markdown",
      "metadata": {
        "id": "5sUCvSFwP5kE",
        "colab_type": "text"
      },
      "source": [
        "#Example of the axis argument"
      ]
    },
    {
      "cell_type": "code",
      "metadata": {
        "id": "A69gEndOQAaR",
        "colab_type": "code",
        "colab": {
          "base_uri": "https://localhost:8080/",
          "height": 202
        },
        "outputId": "a89ddc5a-a4ee-414b-87da-79712075abf1"
      },
      "source": [
        "import numpy as np\n",
        "x=np.array([[[ 0,  1,  2],[ 3,  4,  5],[ 6,  7,  8]],[[ 9, 10, 11],[12, 13, 14],[15, 16, 17]],[[18, 19, 20],[21, 22, 23],[24, 25, 26]]])\n",
        "x"
      ],
      "execution_count": 10,
      "outputs": [
        {
          "output_type": "execute_result",
          "data": {
            "text/plain": [
              "array([[[ 0,  1,  2],\n",
              "        [ 3,  4,  5],\n",
              "        [ 6,  7,  8]],\n",
              "\n",
              "       [[ 9, 10, 11],\n",
              "        [12, 13, 14],\n",
              "        [15, 16, 17]],\n",
              "\n",
              "       [[18, 19, 20],\n",
              "        [21, 22, 23],\n",
              "        [24, 25, 26]]])"
            ]
          },
          "metadata": {
            "tags": []
          },
          "execution_count": 10
        }
      ]
    },
    {
      "cell_type": "code",
      "metadata": {
        "id": "lmk1m0DiQuLm",
        "colab_type": "code",
        "colab": {
          "base_uri": "https://localhost:8080/",
          "height": 134
        },
        "outputId": "4e5ad5d3-c7c9-41ae-a7b0-5ab6e459c773"
      },
      "source": [
        " x.sum(0), x.sum(1), x.sum(2)"
      ],
      "execution_count": 11,
      "outputs": [
        {
          "output_type": "execute_result",
          "data": {
            "text/plain": [
              "(array([[27, 30, 33],\n",
              "        [36, 39, 42],\n",
              "        [45, 48, 51]]), array([[ 9, 12, 15],\n",
              "        [36, 39, 42],\n",
              "        [63, 66, 69]]), array([[ 3, 12, 21],\n",
              "        [30, 39, 48],\n",
              "        [57, 66, 75]]))"
            ]
          },
          "metadata": {
            "tags": []
          },
          "execution_count": 11
        }
      ]
    },
    {
      "cell_type": "code",
      "metadata": {
        "id": "9PGtqHUfQ1Eb",
        "colab_type": "code",
        "colab": {}
      },
      "source": [
        ""
      ],
      "execution_count": null,
      "outputs": []
    }
  ]
}